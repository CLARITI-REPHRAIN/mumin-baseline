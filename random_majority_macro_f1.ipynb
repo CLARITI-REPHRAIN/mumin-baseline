{
 "cells": [
  {
   "cell_type": "code",
   "execution_count": 7,
   "id": "51a14df8-4696-426e-b7e7-44d557fc6dcc",
   "metadata": {},
   "outputs": [],
   "source": [
    "def f1(precision: float, recall: float) -> float:\n",
    "    return 2 * (precision * recall) / (precision + recall)\n",
    "\n",
    "def random_macro_f1(misinfo_pct: float) -> float:\n",
    "    prec_misinfo = misinfo_pct\n",
    "    rec_misinfo = 0.5\n",
    "    f1_misinfo = f1(prec_misinfo, rec_misinfo)\n",
    "    prec_factual = 1 - misinfo_pct\n",
    "    rec_factual = 0.5\n",
    "    f1_factual = f1(prec_factual, rec_factual)\n",
    "    return (f1_misinfo + f1_factual) / 2\n",
    "\n",
    "def majority_macro_f1(misinfo_pct: float) -> float:\n",
    "    prec_misinfo = 1.\n",
    "    rec_misinfo = misinfo_pct\n",
    "    f1_misinfo = f1(prec_misinfo, rec_misinfo)\n",
    "    f1_factual = 0.\n",
    "    return (f1_misinfo + f1_factual) / 2"
   ]
  },
  {
   "cell_type": "code",
   "execution_count": 8,
   "id": "9c77c1ce-193c-4954-91e7-885296dc07db",
   "metadata": {},
   "outputs": [
    {
     "name": "stdout",
     "output_type": "stream",
     "text": [
      "small: random F1 = 40.07 and majority F1 = 47.56\n",
      "medium: random F1 = 38.96 and majority F1 = 48.06\n",
      "large: random F1 = 38.79 and majority F1 = 48.13\n"
     ]
    }
   ],
   "source": [
    "misinfo_pcts = dict(small=0.9071, medium=0.9253, large=0.9280)\n",
    "\n",
    "for size, misinfo_pct in misinfo_pcts.items():\n",
    "    random_f1 = random_macro_f1(misinfo_pct)\n",
    "    majority_f1 = majority_macro_f1(misinfo_pct)\n",
    "    print(f'{size}: random F1 = {100 * random_f1:.2f} and majority F1 = {100 * majority_f1:.2f}')"
   ]
  },
  {
   "cell_type": "code",
   "execution_count": 9,
   "id": "e700208f-3d96-4b43-874a-c99e22a1c606",
   "metadata": {},
   "outputs": [
    {
     "name": "stdout",
     "output_type": "stream",
     "text": [
      "small: random F1 = 37.18 and majority F1 = 48.77\n",
      "medium: random F1 = 37.72 and majority F1 = 48.56\n",
      "large: random F1 = 36.90 and majority F1 = 48.87\n"
     ]
    }
   ],
   "source": [
    "misinfo_pcts = dict(small=0.9518, medium=0.9441, large=0.9557)\n",
    "\n",
    "for size, misinfo_pct in misinfo_pcts.items():\n",
    "    random_f1 = random_macro_f1(misinfo_pct)\n",
    "    majority_f1 = majority_macro_f1(misinfo_pct)\n",
    "    print(f'{size}: random F1 = {100 * random_f1:.2f} and majority F1 = {100 * majority_f1:.2f}')"
   ]
  },
  {
   "cell_type": "code",
   "execution_count": null,
   "id": "ace2051d-f2db-469b-8b5c-51402ae57f94",
   "metadata": {},
   "outputs": [],
   "source": []
  }
 ],
 "metadata": {
  "kernelspec": {
   "display_name": "Python 3 (ipykernel)",
   "language": "python",
   "name": "python3"
  },
  "language_info": {
   "codemirror_mode": {
    "name": "ipython",
    "version": 3
   },
   "file_extension": ".py",
   "mimetype": "text/x-python",
   "name": "python",
   "nbconvert_exporter": "python",
   "pygments_lexer": "ipython3",
   "version": "3.8.3"
  }
 },
 "nbformat": 4,
 "nbformat_minor": 5
}
